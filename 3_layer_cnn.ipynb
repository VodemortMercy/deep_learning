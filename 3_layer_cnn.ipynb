{
 "cells": [
  {
   "cell_type": "code",
   "execution_count": 20,
   "metadata": {},
   "outputs": [],
   "source": [
    "import matplotlib.pyplot as plt\n",
    "import numpy as np\n",
    "import tensorflow as tf\n",
    "import prettytensor as pt"
   ]
  },
  {
   "cell_type": "code",
   "execution_count": 3,
   "metadata": {},
   "outputs": [],
   "source": [
    "def unpickle(file):\n",
    "    import pickle\n",
    "    with open(file, 'rb') as fo:\n",
    "        dict = pickle.load(fo, encoding='bytes')\n",
    "    return dict"
   ]
  },
  {
   "cell_type": "code",
   "execution_count": 71,
   "metadata": {},
   "outputs": [],
   "source": [
    "result = unpickle('cifar-10-batches-py/data_batch_{}'.format(2))"
   ]
  },
  {
   "cell_type": "code",
   "execution_count": 224,
   "metadata": {},
   "outputs": [],
   "source": [
    "def convert_image(image):#input image with size 1*3072 output image that fits shape ready to feed in tensorflow\n",
    "    test_image = image.reshape([3,1024])\n",
    "    layer1 = test_image[0].reshape((32,32,1))\n",
    "    layer2 = test_image[1].reshape((32,32,1))\n",
    "    layer3 = test_image[2].reshape((32,32,1))\n",
    "    c=np.concatenate((layer1,layer2,layer3), axis=2)\n",
    "    c = c.reshape((1,32,32,3))\n",
    "    return c\n",
    "def convert_group_image(image_group):\n",
    "    a = []\n",
    "    size = np.shape(image_group)[0]\n",
    "    for i in range(size):\n",
    "        image = image_group[i]\n",
    "        test_image = image.reshape([3,1024])\n",
    "        layer1 = test_image[0].reshape((32,32,1))\n",
    "        layer2 = test_image[1].reshape((32,32,1))\n",
    "        layer3 = test_image[2].reshape((32,32,1))\n",
    "        c=np.concatenate((layer1,layer2,layer3), axis=2)\n",
    "        a.append(c)\n",
    "    return a\n",
    "\n",
    "def convert2dummy(fine_labels):\n",
    "    dummy_var = []\n",
    "    zeros = np.zeros(10)\n",
    "\n",
    "    for item in fine_labels:\n",
    "        zeros = np.zeros(10)\n",
    "        zeros[item] = 1\n",
    "        dummy_var.append(zeros)\n",
    "    return dummy_var \n",
    "\n",
    "def show_results(image,result_y):\n",
    "    items = ['airplane','automobile','bird','cat','deer','dot','frog','horse','ship','truck']\n",
    "    a,b = plt.subplots(3,3)\n",
    "    a.subplots_adjust(hspace=0.3, wspace=0.3)\n",
    "    for index,image_place in enumerate(b.flat):\n",
    "        image_place.imshow(image[index])\n",
    "        image_place.set_xlabel(items[np.argmax(result_y[index])])\n",
    "        image_place.set_xticks([])\n",
    "        image_place.set_yticks([])"
   ]
  },
  {
   "cell_type": "code",
   "execution_count": 72,
   "metadata": {},
   "outputs": [],
   "source": [
    "b = 10 #batch size"
   ]
  },
  {
   "cell_type": "code",
   "execution_count": 160,
   "metadata": {},
   "outputs": [
    {
     "data": {
      "text/plain": [
       "(10000, 10)"
      ]
     },
     "execution_count": 160,
     "metadata": {},
     "output_type": "execute_result"
    }
   ],
   "source": [
    "#labels\n",
    "#filenames\n",
    "#data\n",
    "#batch_label\n",
    "image_set = result[b'data']\n",
    "image_set = convert_group_image(image_set)\n",
    "y_labels = result[b'labels']\n",
    "y_true = convert2dummy(y_labels)\n",
    "np.shape(y_true)"
   ]
  },
  {
   "cell_type": "code",
   "execution_count": 154,
   "metadata": {},
   "outputs": [],
   "source": [
    "X = tf.placeholder(shape=(b,32,32,3),dtype=tf.float32)\n",
    "Y = tf.placeholder(shape=(b,10),dtype=tf.float32)"
   ]
  },
  {
   "cell_type": "code",
   "execution_count": 155,
   "metadata": {},
   "outputs": [],
   "source": [
    "W1 = tf.Variable(tf.truncated_normal(shape=(3,3,3,72), mean=0, stddev=1))\n",
    "B1 = tf.Variable(tf.constant(0,shape=[72],dtype=tf.float32))\n",
    "\n",
    "W2 = tf.Variable(tf.truncated_normal(shape=(3,3,72,144), mean=0, stddev=1))\n",
    "B2 = tf.Variable(tf.constant(0,shape=[144],dtype=tf.float32))\n",
    "\n",
    "W3 = tf.Variable(tf.truncated_normal(shape=(3,3,144,288), mean=0, stddev=1))\n",
    "B3 = tf.Variable(tf.constant(0,shape=[288],dtype=tf.float32))\n",
    "\n",
    "fc_W1 = tf.Variable(tf.truncated_normal(shape=(4608,256), mean=0, stddev=1))\n",
    "fc_B1 = tf.Variable(tf.constant(0,shape=[10,256],dtype=tf.float32))\n",
    "\n",
    "fc_W2 = tf.Variable(tf.truncated_normal(shape=(256,10), mean=0, stddev=1))\n",
    "fc_B2 = tf.Variable(tf.constant(0,shape=[10,10],dtype=tf.float32))"
   ]
  },
  {
   "cell_type": "code",
   "execution_count": 156,
   "metadata": {},
   "outputs": [],
   "source": [
    "l1_1 = tf.nn.conv2d(input=X,filter=W1,strides=[1,1,1,1],padding='SAME')\n",
    "l1_1 = tf.nn.bias_add(l1_1,B1)\n",
    "l1_2 = tf.nn.relu(l1_1)\n",
    "l1_3 = tf.nn.max_pool(l1_2,[1,2,2,1],[1,2,2,1],padding='SAME')\n",
    "\n",
    "l2_1 = tf.nn.conv2d(input=l1_3,filter=W2,strides=[1,1,1,1],padding='SAME')\n",
    "l2_1 = tf.nn.bias_add(l2_1,B2)\n",
    "l2_2 = tf.nn.relu(l2_1)\n",
    "l2_3 = tf.nn.max_pool(l2_2,[1,2,2,1],[1,2,2,1],padding='SAME')\n",
    "\n",
    "l3_1 = tf.nn.conv2d(input=l2_3,filter=W3,strides=[1,1,1,1],padding='SAME')\n",
    "l3_1 = tf.nn.bias_add(l3_1,B3)\n",
    "l3_2 = tf.nn.relu(l3_1)\n",
    "l3_3 = tf.nn.max_pool(l3_2,[1,2,2,1],[1,2,2,1],padding='SAME')"
   ]
  },
  {
   "cell_type": "code",
   "execution_count": 157,
   "metadata": {},
   "outputs": [],
   "source": [
    "flat = tf.layers.flatten(l3_3)"
   ]
  },
  {
   "cell_type": "code",
   "execution_count": 158,
   "metadata": {},
   "outputs": [],
   "source": [
    "fc1 = tf.matmul(flat,fc_W1)\n",
    "fc1 = tf.add(fc1,fc_B1)\n",
    "\n",
    "fc2 = tf.matmul(fc1,fc_W2)\n",
    "fc2 = tf.add(fc2,fc_B2)"
   ]
  },
  {
   "cell_type": "code",
   "execution_count": 191,
   "metadata": {},
   "outputs": [],
   "source": [
    "pred_y = tf.nn.softmax(fc2)"
   ]
  },
  {
   "cell_type": "code",
   "execution_count": 159,
   "metadata": {},
   "outputs": [],
   "source": [
    "cost = tf.losses.softmax_cross_entropy(onehot_labels=Y,logits=fc2)"
   ]
  },
  {
   "cell_type": "code",
   "execution_count": 165,
   "metadata": {},
   "outputs": [],
   "source": [
    "optimizer = tf.train.AdamOptimizer(learning_rate=0.001).minimize(cost)"
   ]
  },
  {
   "cell_type": "code",
   "execution_count": 147,
   "metadata": {},
   "outputs": [],
   "source": [
    "sess = tf.Session()"
   ]
  },
  {
   "cell_type": "code",
   "execution_count": 167,
   "metadata": {},
   "outputs": [],
   "source": [
    "sess.run(tf.global_variables_initializer())"
   ]
  },
  {
   "cell_type": "code",
   "execution_count": 223,
   "metadata": {},
   "outputs": [
    {
     "ename": "TypeError",
     "evalue": "unsupported operand type(s) for +: 'AxesSubplot' and 'int'",
     "output_type": "error",
     "traceback": [
      "\u001b[0;31m---------------------------------------------------------------------------\u001b[0m",
      "\u001b[0;31mTypeError\u001b[0m                                 Traceback (most recent call last)",
      "\u001b[0;32m<ipython-input-223-0e4c529267ad>\u001b[0m in \u001b[0;36m<module>\u001b[0;34m()\u001b[0m\n\u001b[1;32m      1\u001b[0m \u001b[0;32mfor\u001b[0m \u001b[0mi\u001b[0m \u001b[0;32min\u001b[0m \u001b[0mrange\u001b[0m\u001b[0;34m(\u001b[0m\u001b[0;36m1000\u001b[0m\u001b[0;34m)\u001b[0m\u001b[0;34m:\u001b[0m\u001b[0;34m\u001b[0m\u001b[0m\n\u001b[1;32m      2\u001b[0m     \u001b[0mrand_num\u001b[0m \u001b[0;34m=\u001b[0m \u001b[0mnp\u001b[0m\u001b[0;34m.\u001b[0m\u001b[0mrandom\u001b[0m\u001b[0;34m.\u001b[0m\u001b[0mrandint\u001b[0m\u001b[0;34m(\u001b[0m\u001b[0mlow\u001b[0m\u001b[0;34m=\u001b[0m\u001b[0;36m0\u001b[0m\u001b[0;34m,\u001b[0m\u001b[0mhigh\u001b[0m\u001b[0;34m=\u001b[0m\u001b[0;36m999\u001b[0m\u001b[0;34m)\u001b[0m\u001b[0;31m#needs hone here for it may not agree with images\u001b[0m\u001b[0;34m\u001b[0m\u001b[0m\n\u001b[0;32m----> 3\u001b[0;31m     \u001b[0msess\u001b[0m\u001b[0;34m.\u001b[0m\u001b[0mrun\u001b[0m\u001b[0;34m(\u001b[0m\u001b[0moptimizer\u001b[0m\u001b[0;34m,\u001b[0m\u001b[0mfeed_dict\u001b[0m\u001b[0;34m=\u001b[0m\u001b[0;34m{\u001b[0m\u001b[0mX\u001b[0m\u001b[0;34m:\u001b[0m\u001b[0mimage_set\u001b[0m\u001b[0;34m[\u001b[0m\u001b[0mrand_num\u001b[0m\u001b[0;34m:\u001b[0m\u001b[0mb\u001b[0m\u001b[0;34m+\u001b[0m\u001b[0mrand_num\u001b[0m\u001b[0;34m]\u001b[0m\u001b[0;34m,\u001b[0m\u001b[0mY\u001b[0m\u001b[0;34m:\u001b[0m\u001b[0my_true\u001b[0m\u001b[0;34m[\u001b[0m\u001b[0mrand_num\u001b[0m\u001b[0;34m:\u001b[0m\u001b[0mb\u001b[0m\u001b[0;34m+\u001b[0m\u001b[0mrand_num\u001b[0m\u001b[0;34m]\u001b[0m\u001b[0;34m}\u001b[0m\u001b[0;34m)\u001b[0m\u001b[0;34m\u001b[0m\u001b[0m\n\u001b[0m\u001b[1;32m      4\u001b[0m     \u001b[0moutput\u001b[0m \u001b[0;34m=\u001b[0m \u001b[0msess\u001b[0m\u001b[0;34m.\u001b[0m\u001b[0mrun\u001b[0m\u001b[0;34m(\u001b[0m\u001b[0mcost\u001b[0m\u001b[0;34m,\u001b[0m\u001b[0mfeed_dict\u001b[0m\u001b[0;34m=\u001b[0m\u001b[0;34m{\u001b[0m\u001b[0mX\u001b[0m\u001b[0;34m:\u001b[0m\u001b[0mimage_set\u001b[0m\u001b[0;34m[\u001b[0m\u001b[0mrand_num\u001b[0m\u001b[0;34m:\u001b[0m\u001b[0mb\u001b[0m\u001b[0;34m+\u001b[0m\u001b[0mrand_num\u001b[0m\u001b[0;34m]\u001b[0m\u001b[0;34m,\u001b[0m\u001b[0mY\u001b[0m\u001b[0;34m:\u001b[0m\u001b[0my_true\u001b[0m\u001b[0;34m[\u001b[0m\u001b[0mrand_num\u001b[0m\u001b[0;34m:\u001b[0m\u001b[0mb\u001b[0m\u001b[0;34m+\u001b[0m\u001b[0mrand_num\u001b[0m\u001b[0;34m]\u001b[0m\u001b[0;34m}\u001b[0m\u001b[0;34m)\u001b[0m\u001b[0;34m\u001b[0m\u001b[0m\n\u001b[1;32m      5\u001b[0m     \u001b[0;32mif\u001b[0m \u001b[0mi\u001b[0m\u001b[0;34m%\u001b[0m\u001b[0;36m100\u001b[0m \u001b[0;34m==\u001b[0m \u001b[0;36m0\u001b[0m\u001b[0;34m:\u001b[0m\u001b[0;34m\u001b[0m\u001b[0m\n",
      "\u001b[0;31mTypeError\u001b[0m: unsupported operand type(s) for +: 'AxesSubplot' and 'int'"
     ]
    }
   ],
   "source": [
    "for i in range(1000):\n",
    "    rand_num = np.random.randint(low=0,high=999)#needs hone here for it may not agree with images \n",
    "    sess.run(optimizer,feed_dict={X:image_set[rand_num:b+rand_num],Y:y_true[rand_num:b+rand_num]})\n",
    "    output = sess.run(cost,feed_dict={X:image_set[rand_num:b+rand_num],Y:y_true[rand_num:b+rand_num]})\n",
    "    if i%100 == 0:\n",
    "        result_y = sess.run(pred_y,feed_dict={X:image_set[rand_num:b+rand_num],Y:y_true[rand_num:b+rand_num]})\n",
    "        show_results(image_set[rand_num:b+rand_num],result_y)\n",
    "        print('loss is:',output)"
   ]
  },
  {
   "cell_type": "code",
   "execution_count": 194,
   "metadata": {},
   "outputs": [
    {
     "data": {
      "text/plain": [
       "[array([ 0.,  1.,  0.,  0.,  0.,  0.,  0.,  0.,  0.,  0.]),\n",
       " array([ 0.,  0.,  0.,  0.,  0.,  0.,  1.,  0.,  0.,  0.]),\n",
       " array([ 0.,  0.,  0.,  0.,  0.,  0.,  1.,  0.,  0.,  0.]),\n",
       " array([ 0.,  0.,  0.,  0.,  0.,  0.,  0.,  0.,  1.,  0.]),\n",
       " array([ 0.,  0.,  0.,  0.,  0.,  0.,  0.,  0.,  1.,  0.]),\n",
       " array([ 0.,  0.,  0.,  1.,  0.,  0.,  0.,  0.,  0.,  0.]),\n",
       " array([ 0.,  0.,  0.,  0.,  1.,  0.,  0.,  0.,  0.,  0.]),\n",
       " array([ 0.,  0.,  0.,  0.,  0.,  0.,  1.,  0.,  0.,  0.]),\n",
       " array([ 1.,  0.,  0.,  0.,  0.,  0.,  0.,  0.,  0.,  0.]),\n",
       " array([ 0.,  0.,  0.,  0.,  0.,  0.,  1.,  0.,  0.,  0.])]"
      ]
     },
     "execution_count": 194,
     "metadata": {},
     "output_type": "execute_result"
    }
   ],
   "source": [
    "y_true[0:10]"
   ]
  },
  {
   "cell_type": "code",
   "execution_count": 195,
   "metadata": {},
   "outputs": [
    {
     "data": {
      "text/plain": [
       "array([[ 1.,  0.,  0.,  0.,  0.,  0.,  0.,  0.,  0.,  0.],\n",
       "       [ 0.,  0.,  0.,  0.,  0.,  0.,  1.,  0.,  0.,  0.],\n",
       "       [ 0.,  0.,  0.,  0.,  0.,  0.,  1.,  0.,  0.,  0.],\n",
       "       [ 0.,  0.,  0.,  0.,  0.,  0.,  0.,  0.,  1.,  0.],\n",
       "       [ 0.,  0.,  0.,  0.,  0.,  0.,  0.,  0.,  1.,  0.],\n",
       "       [ 0.,  0.,  0.,  1.,  0.,  0.,  0.,  0.,  0.,  0.],\n",
       "       [ 0.,  0.,  0.,  0.,  1.,  0.,  0.,  0.,  0.,  0.],\n",
       "       [ 0.,  0.,  0.,  0.,  0.,  0.,  1.,  0.,  0.,  0.],\n",
       "       [ 1.,  0.,  0.,  0.,  0.,  0.,  0.,  0.,  0.,  0.],\n",
       "       [ 0.,  0.,  0.,  0.,  0.,  0.,  1.,  0.,  0.,  0.]], dtype=float32)"
      ]
     },
     "execution_count": 195,
     "metadata": {},
     "output_type": "execute_result"
    }
   ],
   "source": [
    "result_y"
   ]
  },
  {
   "cell_type": "code",
   "execution_count": 130,
   "metadata": {},
   "outputs": [],
   "source": [
    "sess.close()"
   ]
  }
 ],
 "metadata": {
  "kernelspec": {
   "display_name": "Python 3",
   "language": "python",
   "name": "python3"
  },
  "language_info": {
   "codemirror_mode": {
    "name": "ipython",
    "version": 3
   },
   "file_extension": ".py",
   "mimetype": "text/x-python",
   "name": "python",
   "nbconvert_exporter": "python",
   "pygments_lexer": "ipython3",
   "version": "3.5.4"
  }
 },
 "nbformat": 4,
 "nbformat_minor": 2
}
